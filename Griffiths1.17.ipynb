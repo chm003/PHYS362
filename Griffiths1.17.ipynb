{
 "cells": [
  {
   "cell_type": "markdown",
   "metadata": {},
   "source": [
    "# Problem 1.17\n",
    "\n",
    "## Problem statement\n",
    "A particle is represented (at time $t=0$) by the wave function\n",
    "\n",
    "$$\\Psi(x,0) = \\left\\{ \\begin{array}{ll} A(a^2-x^2), &\\text{if} -a \\le x \\le +a,\\\\\n",
    "0, &\\text{otherwise} \\end{array} \\right. $$\n",
    "\n",
    "* Determine the normalization constant $A$.\n",
    "* What is the expectation value of $x$ (at time $t=0$)?\n",
    "* What is the expectation value of $p$ (at time $t=0$)?\n",
    "* Find the expectation value of $x^2$\n",
    "* Find the expectation value of $p^2$.\n",
    "* Find the uncertainties in x and p\n",
    "* check that your results are consistent with the uncertainty principle.\n",
    "\n",
    "----\n",
    "\n",
    "\n",
    "\n",
    "## Solution\n",
    "\n",
    "Very similar to problem 1.9. The only catch is that here we don't need to integrate over all values of $x$, since the wave function is only defined over a limited range.\n",
    "\n",
    "### Normalization"
   ]
  },
  {
   "cell_type": "code",
   "execution_count": 1,
   "metadata": {
    "collapsed": false
   },
   "outputs": [
    {
     "data": {
      "image/png": "[encoded data removed]",
      "text/latex": [
       "$$- \\frac{\\sqrt{15}}{4 a^{\\frac{5}{2}}}$$"
      ],
      "text/plain": [
       "-√15  \n",
       "──────\n",
       "   5/2\n",
       "4⋅a   "
      ]
     },
     "execution_count": 1,
     "metadata": {},
     "output_type": "execute_result"
    }
   ],
   "source": [
    "import sympy as sp\n",
    "sp.init_printing()\n",
    "\n",
    "A, a = sp.symbols(\"A a\", real=True, positive=True)\n",
    "x = sp.symbols(\"x\", real=True)\n",
    "\n",
    "Psi = A*(a**2-x**2)\n",
    "\n",
    "calcAval = next(iter(sp.solveset(sp.Eq(1, sp.integrate(sp.conjugate(Psi)*Psi, (x, -a, a))), A)))\n",
    "\n",
    "calcAval"
   ]
  },
  {
   "cell_type": "markdown",
   "metadata": {},
   "source": [
    "### Expectation values"
   ]
  },
  {
   "cell_type": "code",
   "execution_count": 2,
   "metadata": {
    "collapsed": false
   },
   "outputs": [
    {
     "data": {
      "text/latex": [
       "$\\langle x \\rangle = 0$"
      ],
      "text/plain": [
       "<IPython.core.display.Latex object>"
      ]
     },
     "execution_count": 2,
     "metadata": {},
     "output_type": "execute_result"
    }
   ],
   "source": [
    "from sympy.physics.quantum.constants import hbar\n",
    "from IPython.display import Latex\n",
    "\n",
    "Psi = Psi.subs(A, calcAval)\n",
    "\n",
    "# since Psi is real, we don't really need to take the complex conjugate.\n",
    "expectx = sp.integrate(Psi**2 * x, (x,-a,a))\n",
    "expectxsq = sp.integrate(Psi**2 * x**2, (x,-a,a))\n",
    "expectp = hbar/sp.I * sp.integrate(Psi * sp.diff(Psi, x), (x,-a,a))\n",
    "expectpsq = -hbar**2 * sp.integrate(Psi * sp.diff(Psi, x, 2), (x,-a,a))\n",
    "\n",
    "Latex(r\"$\\langle x \\rangle = \" + sp.latex(expectx) + \"$\")"
   ]
  },
  {
   "cell_type": "code",
   "execution_count": 3,
   "metadata": {
    "collapsed": false
   },
   "outputs": [
    {
     "data": {
      "text/latex": [
       "$$\\langle x^2 \\rangle = \\frac{a^{2}}{7}$$"
      ],
      "text/plain": [
       "<IPython.core.display.Latex object>"
      ]
     },
     "execution_count": 3,
     "metadata": {},
     "output_type": "execute_result"
    }
   ],
   "source": [
    "Latex(r\"$$\\langle x^2 \\rangle = \" + sp.latex(expectxsq) + \"$$\")"
   ]
  },
  {
   "cell_type": "code",
   "execution_count": 4,
   "metadata": {
    "collapsed": false
   },
   "outputs": [
    {
     "data": {
      "text/latex": [
       "$\\langle p \\rangle = 0$"
      ],
      "text/plain": [
       "<IPython.core.display.Latex object>"
      ]
     },
     "execution_count": 4,
     "metadata": {},
     "output_type": "execute_result"
    }
   ],
   "source": [
    "Latex(r\"$\\langle p \\rangle = \" + sp.latex(expectp) + \"$\")"
   ]
  },
  {
   "cell_type": "code",
   "execution_count": 5,
   "metadata": {
    "collapsed": false
   },
   "outputs": [
    {
     "data": {
      "text/latex": [
       "$$\\langle p^2 \\rangle = \\frac{5 \\hbar^{2}}{2 a^{2}}$$"
      ],
      "text/plain": [
       "<IPython.core.display.Latex object>"
      ]
     },
     "execution_count": 5,
     "metadata": {},
     "output_type": "execute_result"
    }
   ],
   "source": [
    "Latex(r\"$$\\langle p^2 \\rangle = \" + sp.latex(expectpsq) + \"$$\")"
   ]
  },
  {
   "cell_type": "markdown",
   "metadata": {},
   "source": [
    "### Uncertainties"
   ]
  },
  {
   "cell_type": "code",
   "execution_count": 6,
   "metadata": {
    "collapsed": false
   },
   "outputs": [
    {
     "data": {
      "text/latex": [
       "$$\\sigma_x = \\frac{\\sqrt{7} a}{7}$$"
      ],
      "text/plain": [
       "<IPython.core.display.Latex object>"
      ]
     },
     "execution_count": 6,
     "metadata": {},
     "output_type": "execute_result"
    }
   ],
   "source": [
    "sigmax = sp.sqrt(expectxsq - expectx**2)\n",
    "Latex(r\"$$\\sigma_x = \" + sp.latex(sigmax) + \"$$\")"
   ]
  },
  {
   "cell_type": "code",
   "execution_count": 7,
   "metadata": {
    "collapsed": false
   },
   "outputs": [
    {
     "data": {
      "text/latex": [
       "$$\\sigma_p = \\frac{\\sqrt{10} \\hbar}{2 a}$$"
      ],
      "text/plain": [
       "<IPython.core.display.Latex object>"
      ]
     },
     "execution_count": 7,
     "metadata": {},
     "output_type": "execute_result"
    }
   ],
   "source": [
    "sigmap = sp.sqrt(expectpsq - expectp**2)\n",
    "Latex(r\"$$\\sigma_p = \" + sp.latex(sigmap) + \"$$\")"
   ]
  },
  {
   "cell_type": "markdown",
   "metadata": {},
   "source": [
    "### The uncertainty principle"
   ]
  },
  {
   "cell_type": "code",
   "execution_count": 8,
   "metadata": {
    "collapsed": false
   },
   "outputs": [
    {
     "data": {
      "image/png": "[encoded data removed]",
      "text/latex": [
       "$$\\frac{\\sqrt{70} \\hbar}{14}$$"
      ],
      "text/plain": [
       "√70⋅ℏ\n",
       "─────\n",
       "  14 "
      ]
     },
     "execution_count": 8,
     "metadata": {},
     "output_type": "execute_result"
    }
   ],
   "source": [
    "sigmax*sigmap"
   ]
  },
  {
   "cell_type": "markdown",
   "metadata": {},
   "source": [
    "----\n",
    "\n",
    "## Portfolio references\n",
    "\n",
    "* Problem 1.9\n",
    "\n",
    "\n",
    "## Index terms\n",
    "* Real wavefunction\n",
    "* Bounded support\n",
    "\n",
    "\n",
    "## Book references\n",
    "\n",
    "## External references"
   ]
  }
 ],
 "metadata": {
  "anaconda-cloud": {},
  "kernelspec": {
   "display_name": "Python [conda env:PHYS362]",
   "language": "python",
   "name": "conda-env-PHYS362-py"
  },
  "language_info": {
   "codemirror_mode": {
    "name": "ipython",
    "version": 3
   },
   "file_extension": ".py",
   "mimetype": "text/x-python",
   "name": "python",
   "nbconvert_exporter": "python",
   "pygments_lexer": "ipython3",
   "version": "3.5.2"
  }
 },
 "nbformat": 4,
 "nbformat_minor": 0
}
